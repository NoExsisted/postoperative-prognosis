{
 "cells": [
  {
   "cell_type": "code",
   "execution_count": 84,
   "metadata": {},
   "outputs": [],
   "source": [
    "import pandas as pd\n",
    "import numpy as np\n",
    "from sklearn.preprocessing import StandardScaler, LabelEncoder\n",
    "\n",
    "data = pd.read_excel('./data_3.xlsx')\n",
    "#print(data.head())\n",
    "\n",
    "new_data = pd.DataFrame({})"
   ]
  },
  {
   "cell_type": "markdown",
   "metadata": {},
   "source": [
    "### 钙"
   ]
  },
  {
   "cell_type": "code",
   "execution_count": 85,
   "metadata": {},
   "outputs": [
    {
     "name": "stdout",
     "output_type": "stream",
     "text": [
      "0     mmol/L\n",
      "7        NaN\n",
      "87    mmol/l\n",
      "Name: 结果单位.5, dtype: object\n",
      "NaN的数量: 856\n",
      "0       2.30\n",
      "1       2.34\n",
      "2       2.23\n",
      "3       2.28\n",
      "4       2.21\n",
      "        ... \n",
      "5776    2.18\n",
      "5777    2.05\n",
      "5778    2.05\n",
      "5779    2.14\n",
      "5780    0.95\n",
      "Name: 钙, Length: 5781, dtype: float32\n"
     ]
    },
    {
     "name": "stderr",
     "output_type": "stream",
     "text": [
      "C:\\Users\\lianxiang\\AppData\\Local\\Temp\\ipykernel_27436\\1524384711.py:6: FutureWarning: In a future version, `df.iloc[:, i] = newvals` will attempt to set the values inplace instead of always setting a new array. To retain the old behavior, use either `df[df.columns[i]] = newvals` or, if columns are non-unique, `df.isetitem(i, newvals)`\n",
      "  data.loc[:, '结果.5'] = data.loc[:, '结果.5'].astype('float32')\n"
     ]
    }
   ],
   "source": [
    "print(data.loc[:, '结果单位.5'].drop_duplicates())\n",
    "\n",
    "nan_count = data.loc[:, '结果.5'].isna().sum()\n",
    "print(\"NaN的数量:\", nan_count)\n",
    "\n",
    "data.loc[:, '结果.5'] = data.loc[:, '结果.5'].astype('float32')\n",
    "\n",
    "# 填充NaN值为均值\n",
    "mean_value = round(data.loc[:, '结果.5'].mean(), 2)\n",
    "new_data['钙'] = data.loc[:, '结果.5']\n",
    "new_data['钙'].fillna(mean_value, inplace = True)\n",
    "print(new_data['钙'])"
   ]
  },
  {
   "cell_type": "markdown",
   "metadata": {},
   "source": [
    "### 钠"
   ]
  },
  {
   "cell_type": "code",
   "execution_count": 86,
   "metadata": {},
   "outputs": [
    {
     "name": "stdout",
     "output_type": "stream",
     "text": [
      "0     mmol/L\n",
      "7        NaN\n",
      "87    mmol/l\n",
      "Name: 结果单位.13, dtype: object\n",
      "NaN的数量: 907\n",
      "0       139.000000\n",
      "1       140.000000\n",
      "2       139.000000\n",
      "3       141.000000\n",
      "4       140.699997\n",
      "           ...    \n",
      "5776    142.800003\n",
      "5777    139.000000\n",
      "5778    139.479996\n",
      "5779    134.000000\n",
      "5780    142.000000\n",
      "Name: 钠, Length: 5781, dtype: float32\n"
     ]
    },
    {
     "name": "stderr",
     "output_type": "stream",
     "text": [
      "C:\\Users\\lianxiang\\AppData\\Local\\Temp\\ipykernel_27436\\1828229884.py:6: FutureWarning: In a future version, `df.iloc[:, i] = newvals` will attempt to set the values inplace instead of always setting a new array. To retain the old behavior, use either `df[df.columns[i]] = newvals` or, if columns are non-unique, `df.isetitem(i, newvals)`\n",
      "  data.loc[:, '结果.13'] = data.loc[:, '结果.13'].astype('float32')\n"
     ]
    }
   ],
   "source": [
    "print(data.loc[:, '结果单位.13'].drop_duplicates())\n",
    "\n",
    "nan_count = data.loc[:, '结果.13'].isna().sum()\n",
    "print(\"NaN的数量:\", nan_count)\n",
    "\n",
    "data.loc[:, '结果.13'] = data.loc[:, '结果.13'].astype('float32')\n",
    "\n",
    "# 填充NaN值为均值\n",
    "mean_value = round(data.loc[:, '结果.13'].mean(), 2)\n",
    "new_data['钠'] = data.loc[:, '结果.13']\n",
    "new_data['钠'].fillna(mean_value, inplace = True)\n",
    "print(new_data['钠'])"
   ]
  },
  {
   "cell_type": "markdown",
   "metadata": {},
   "source": [
    "### 低密度脂蛋白胆固醇"
   ]
  },
  {
   "cell_type": "code",
   "execution_count": 87,
   "metadata": {},
   "outputs": [
    {
     "name": "stdout",
     "output_type": "stream",
     "text": [
      "0     mmol/L\n",
      "2        NaN\n",
      "45    mmol/l\n",
      "Name: 结果单位.4, dtype: object\n",
      "NaN的数量: 2477\n",
      "0       3.61\n",
      "1       2.67\n",
      "2       2.79\n",
      "3       2.38\n",
      "4       2.79\n",
      "        ... \n",
      "5776    2.85\n",
      "5777    3.56\n",
      "5778    2.52\n",
      "5779    3.14\n",
      "5780    2.59\n",
      "Name: 低密度脂蛋白胆固醇, Length: 5781, dtype: float32\n"
     ]
    },
    {
     "name": "stderr",
     "output_type": "stream",
     "text": [
      "C:\\Users\\lianxiang\\AppData\\Local\\Temp\\ipykernel_27436\\2140933517.py:6: FutureWarning: In a future version, `df.iloc[:, i] = newvals` will attempt to set the values inplace instead of always setting a new array. To retain the old behavior, use either `df[df.columns[i]] = newvals` or, if columns are non-unique, `df.isetitem(i, newvals)`\n",
      "  data.loc[:, '结果.4'] = data.loc[:, '结果.4'].astype('float32')\n"
     ]
    }
   ],
   "source": [
    "print(data.loc[:, '结果单位.4'].drop_duplicates())\n",
    "\n",
    "nan_count = data.loc[:, '结果.4'].isna().sum()\n",
    "print(\"NaN的数量:\", nan_count)\n",
    "\n",
    "data.loc[:, '结果.4'] = data.loc[:, '结果.4'].astype('float32')\n",
    "\n",
    "# 填充NaN值为均值\n",
    "mean_value = round(data.loc[:, '结果.4'].mean(), 2)\n",
    "new_data['低密度脂蛋白胆固醇'] = data.loc[:, '结果.4']\n",
    "new_data['低密度脂蛋白胆固醇'].fillna(mean_value, inplace = True)\n",
    "print(new_data['低密度脂蛋白胆固醇'])"
   ]
  },
  {
   "cell_type": "markdown",
   "metadata": {},
   "source": [
    "### 血小板"
   ]
  },
  {
   "cell_type": "code",
   "execution_count": 88,
   "metadata": {},
   "outputs": [
    {
     "name": "stdout",
     "output_type": "stream",
     "text": [
      "0       *10^9/L\n",
      "50          NaN\n",
      "1081    X10^9/L\n",
      "Name: 结果单位.18, dtype: object\n",
      "NaN的数量: 79\n",
      "0       176.0\n",
      "1       314.0\n",
      "2        58.0\n",
      "3       213.0\n",
      "4       167.0\n",
      "        ...  \n",
      "5776    217.0\n",
      "5777    345.0\n",
      "5778    219.0\n",
      "5779    284.0\n",
      "5780    214.0\n",
      "Name: 血小板, Length: 5781, dtype: float32\n"
     ]
    },
    {
     "name": "stderr",
     "output_type": "stream",
     "text": [
      "C:\\Users\\lianxiang\\AppData\\Local\\Temp\\ipykernel_27436\\1444276186.py:10: FutureWarning: In a future version, `df.iloc[:, i] = newvals` will attempt to set the values inplace instead of always setting a new array. To retain the old behavior, use either `df[df.columns[i]] = newvals` or, if columns are non-unique, `df.isetitem(i, newvals)`\n",
      "  data.loc[:, '结果.18'] = data.loc[:, '结果.18'].astype('float32')\n"
     ]
    }
   ],
   "source": [
    "print(data.loc[:, '结果单位.18'].drop_duplicates())\n",
    "\n",
    "nan_count = data.loc[:, '结果.18'].isna().sum()\n",
    "print(\"NaN的数量:\", nan_count)\n",
    "\n",
    "index = data[data.loc[:, '结果.18'] == '/'].index\n",
    "data.loc[index, '结果.18'] = data.loc[index, '结果.18'].replace('/', np.nan)\n",
    "index = data[data.loc[:, '结果.18'] == '、'].index\n",
    "data.loc[index, '结果.18'] = data.loc[index, '结果.18'].replace('、', np.nan)\n",
    "data.loc[:, '结果.18'] = data.loc[:, '结果.18'].astype('float32')\n",
    "\n",
    "# 填充NaN值为均值\n",
    "mean_value = round(data.loc[:, '结果.18'].mean(), 2)\n",
    "new_data['血小板'] = data.loc[:, '结果.18']\n",
    "new_data['血小板'].fillna(mean_value, inplace = True)\n",
    "print(new_data['血小板'])"
   ]
  },
  {
   "cell_type": "markdown",
   "metadata": {},
   "source": [
    "### 血小板分布宽度"
   ]
  },
  {
   "cell_type": "code",
   "execution_count": 89,
   "metadata": {},
   "outputs": [
    {
     "name": "stdout",
     "output_type": "stream",
     "text": [
      "0      fL\n",
      "50    NaN\n",
      "Name: 结果单位.19, dtype: object\n",
      "NaN的数量: 79\n"
     ]
    },
    {
     "name": "stderr",
     "output_type": "stream",
     "text": [
      "C:\\Users\\lianxiang\\AppData\\Local\\Temp\\ipykernel_27436\\2917332832.py:12: FutureWarning: In a future version, `df.iloc[:, i] = newvals` will attempt to set the values inplace instead of always setting a new array. To retain the old behavior, use either `df[df.columns[i]] = newvals` or, if columns are non-unique, `df.isetitem(i, newvals)`\n",
      "  data.loc[:, '结果.19'] = data.loc[:, '结果.19'].astype('float32')\n"
     ]
    },
    {
     "name": "stdout",
     "output_type": "stream",
     "text": [
      "0       13.600000\n",
      "1       10.000000\n",
      "2       13.500000\n",
      "3       14.100000\n",
      "4       14.800000\n",
      "          ...    \n",
      "5776    17.200001\n",
      "5777    14.100000\n",
      "5778    14.200000\n",
      "5779    13.100000\n",
      "5780    14.900000\n",
      "Name: 血小板分布宽度, Length: 5781, dtype: float32\n"
     ]
    }
   ],
   "source": [
    "print(data.loc[:, '结果单位.19'].drop_duplicates())\n",
    "\n",
    "nan_count = data.loc[:, '结果.19'].isna().sum()\n",
    "print(\"NaN的数量:\", nan_count)\n",
    "\n",
    "index = data[data.loc[:, '结果.19'] == '-----'].index\n",
    "data.loc[index, '结果.19'] = data.loc[index, '结果.19'].replace('-----', np.nan)\n",
    "index = data[data.loc[:, '结果.19'] == '/'].index\n",
    "data.loc[index, '结果.19'] = data.loc[index, '结果.19'].replace('/', np.nan)\n",
    "index = data[data.loc[:, '结果.19'] == '、'].index\n",
    "data.loc[index, '结果.19'] = data.loc[index, '结果.19'].replace('、', np.nan)\n",
    "data.loc[:, '结果.19'] = data.loc[:, '结果.19'].astype('float32')\n",
    "\n",
    "# 填充NaN值为均值\n",
    "mean_value = round(data.loc[:, '结果.19'].mean(), 2)\n",
    "new_data['血小板分布宽度'] = data.loc[:, '结果.19']\n",
    "new_data['血小板分布宽度'].fillna(mean_value, inplace = True)\n",
    "print(new_data['血小板分布宽度'])"
   ]
  },
  {
   "cell_type": "markdown",
   "metadata": {},
   "source": [
    "### 血小板压积"
   ]
  },
  {
   "cell_type": "code",
   "execution_count": 90,
   "metadata": {},
   "outputs": [
    {
     "name": "stdout",
     "output_type": "stream",
     "text": [
      "0       %\n",
      "50    NaN\n",
      "Name: 结果单位.20, dtype: object\n",
      "NaN的数量: 79\n",
      "0       0.19\n",
      "1       0.30\n",
      "2       0.08\n",
      "3       0.24\n",
      "4       0.19\n",
      "        ... \n",
      "5776    0.27\n",
      "5777    0.40\n",
      "5778    0.24\n",
      "5779    0.31\n",
      "5780    0.24\n",
      "Name: 血小板压积, Length: 5781, dtype: float32\n"
     ]
    },
    {
     "name": "stderr",
     "output_type": "stream",
     "text": [
      "C:\\Users\\lianxiang\\AppData\\Local\\Temp\\ipykernel_27436\\548463509.py:10: FutureWarning: In a future version, `df.iloc[:, i] = newvals` will attempt to set the values inplace instead of always setting a new array. To retain the old behavior, use either `df[df.columns[i]] = newvals` or, if columns are non-unique, `df.isetitem(i, newvals)`\n",
      "  data.loc[:, '结果.20'] = data.loc[:, '结果.20'].astype('float32')\n"
     ]
    }
   ],
   "source": [
    "print(data.loc[:, '结果单位.20'].drop_duplicates())\n",
    "\n",
    "nan_count = data.loc[:, '结果.20'].isna().sum()\n",
    "print(\"NaN的数量:\", nan_count)\n",
    "\n",
    "index = data[data.loc[:, '结果.20'] == '-----'].index\n",
    "data.loc[index, '结果.20'] = data.loc[index, '结果.20'].replace('-----', np.nan)\n",
    "index = data[data.loc[:, '结果.20'] == '/'].index\n",
    "data.loc[index, '结果.20'] = data.loc[index, '结果.20'].replace('/', np.nan)\n",
    "data.loc[:, '结果.20'] = data.loc[:, '结果.20'].astype('float32')\n",
    "\n",
    "# 填充NaN值为均值\n",
    "mean_value = round(data.loc[:, '结果.20'].mean(), 2)\n",
    "new_data['血小板压积'] = data.loc[:, '结果.20']\n",
    "new_data['血小板压积'].fillna(mean_value, inplace = True)\n",
    "print(new_data['血小板压积'])"
   ]
  },
  {
   "cell_type": "markdown",
   "metadata": {},
   "source": [
    "### 中性粒细胞百分比"
   ]
  },
  {
   "cell_type": "code",
   "execution_count": 91,
   "metadata": {},
   "outputs": [
    {
     "name": "stdout",
     "output_type": "stream",
     "text": [
      "0       %\n",
      "50    NaN\n",
      "Name: 结果单位.21, dtype: object\n",
      "NaN的数量: 79\n",
      "0       70.800003\n",
      "1       64.500000\n",
      "2       75.699997\n",
      "3       59.200001\n",
      "4       86.000000\n",
      "          ...    \n",
      "5776    58.700001\n",
      "5777    54.000000\n",
      "5778    66.400002\n",
      "5779    50.200001\n",
      "5780    57.400002\n",
      "Name: 中性粒细胞百分比, Length: 5781, dtype: float32\n"
     ]
    },
    {
     "name": "stderr",
     "output_type": "stream",
     "text": [
      "C:\\Users\\lianxiang\\AppData\\Local\\Temp\\ipykernel_27436\\3633883187.py:10: FutureWarning: In a future version, `df.iloc[:, i] = newvals` will attempt to set the values inplace instead of always setting a new array. To retain the old behavior, use either `df[df.columns[i]] = newvals` or, if columns are non-unique, `df.isetitem(i, newvals)`\n",
      "  data.loc[:, '结果.21'] = data.loc[:, '结果.21'].astype('float32')\n"
     ]
    }
   ],
   "source": [
    "print(data.loc[:, '结果单位.21'].drop_duplicates())\n",
    "\n",
    "nan_count = data.loc[:, '结果.21'].isna().sum()\n",
    "print(\"NaN的数量:\", nan_count)\n",
    "\n",
    "index = data[data.loc[:, '结果.21'] == '/'].index\n",
    "data.loc[index, '结果.21'] = data.loc[index, '结果.21'].replace('/', np.nan)\n",
    "index = data[data.loc[:, '结果.21'] == '、'].index\n",
    "data.loc[index, '结果.21'] = data.loc[index, '结果.21'].replace('、', np.nan)\n",
    "data.loc[:, '结果.21'] = data.loc[:, '结果.21'].astype('float32')\n",
    "\n",
    "# 填充NaN值为均值\n",
    "mean_value = round(data.loc[:, '结果.21'].mean(), 2)\n",
    "new_data['中性粒细胞百分比'] = data.loc[:, '结果.21']\n",
    "new_data['中性粒细胞百分比'].fillna(mean_value, inplace = True)\n",
    "print(new_data['中性粒细胞百分比'])"
   ]
  },
  {
   "cell_type": "markdown",
   "metadata": {},
   "source": [
    "### 中性粒细胞绝对值"
   ]
  },
  {
   "cell_type": "code",
   "execution_count": 92,
   "metadata": {},
   "outputs": [
    {
     "name": "stdout",
     "output_type": "stream",
     "text": [
      "0       *10^9/L\n",
      "50          NaN\n",
      "1081     10^9/L\n",
      "Name: 结果单位.22, dtype: object\n",
      "NaN的数量: 79\n",
      "0        3.80\n",
      "1        4.67\n",
      "2        3.33\n",
      "3        6.18\n",
      "4       10.33\n",
      "        ...  \n",
      "5776     4.02\n",
      "5777     3.09\n",
      "5778     3.95\n",
      "5779     2.29\n",
      "5780     2.82\n",
      "Name: 中性粒细胞绝对值, Length: 5781, dtype: float32\n"
     ]
    },
    {
     "name": "stderr",
     "output_type": "stream",
     "text": [
      "C:\\Users\\lianxiang\\AppData\\Local\\Temp\\ipykernel_27436\\3521829913.py:10: FutureWarning: In a future version, `df.iloc[:, i] = newvals` will attempt to set the values inplace instead of always setting a new array. To retain the old behavior, use either `df[df.columns[i]] = newvals` or, if columns are non-unique, `df.isetitem(i, newvals)`\n",
      "  data.loc[:, '结果.22'] = data.loc[:, '结果.22'].astype('float32')\n"
     ]
    }
   ],
   "source": [
    "print(data.loc[:, '结果单位.22'].drop_duplicates())\n",
    "\n",
    "nan_count = data.loc[:, '结果.22'].isna().sum()\n",
    "print(\"NaN的数量:\", nan_count)\n",
    "\n",
    "index = data[data.loc[:, '结果.22'] == '/'].index\n",
    "data.loc[index, '结果.22'] = data.loc[index, '结果.22'].replace('/', np.nan)\n",
    "index = data[data.loc[:, '结果.22'] == '、'].index\n",
    "data.loc[index, '结果.22'] = data.loc[index, '结果.22'].replace('、', np.nan)\n",
    "data.loc[:, '结果.22'] = data.loc[:, '结果.22'].astype('float32')\n",
    "\n",
    "# 填充NaN值为均值\n",
    "mean_value = round(data.loc[:, '结果.22'].mean(), 2)\n",
    "new_data['中性粒细胞绝对值'] = data.loc[:, '结果.22']\n",
    "new_data['中性粒细胞绝对值'].fillna(mean_value, inplace = True)\n",
    "print(new_data['中性粒细胞绝对值'])"
   ]
  },
  {
   "cell_type": "markdown",
   "metadata": {},
   "source": [
    "### 平均血小板体积"
   ]
  },
  {
   "cell_type": "code",
   "execution_count": 93,
   "metadata": {},
   "outputs": [
    {
     "name": "stdout",
     "output_type": "stream",
     "text": [
      "0      fL\n",
      "50    NaN\n",
      "Name: 结果单位.15, dtype: object\n",
      "NaN的数量: 79\n",
      "0       11.0\n",
      "1        9.5\n",
      "2       12.3\n",
      "3       11.0\n",
      "4       11.5\n",
      "        ... \n",
      "5776    12.6\n",
      "5777    11.7\n",
      "5778    11.1\n",
      "5779    11.0\n",
      "5780    11.3\n",
      "Name: 平均血小板体积, Length: 5781, dtype: float32\n"
     ]
    },
    {
     "name": "stderr",
     "output_type": "stream",
     "text": [
      "C:\\Users\\lianxiang\\AppData\\Local\\Temp\\ipykernel_27436\\973422196.py:12: FutureWarning: In a future version, `df.iloc[:, i] = newvals` will attempt to set the values inplace instead of always setting a new array. To retain the old behavior, use either `df[df.columns[i]] = newvals` or, if columns are non-unique, `df.isetitem(i, newvals)`\n",
      "  data.loc[:, '结果.15'] = data.loc[:, '结果.15'].astype('float32')\n"
     ]
    }
   ],
   "source": [
    "print(data.loc[:, '结果单位.15'].drop_duplicates())\n",
    "\n",
    "nan_count = data.loc[:, '结果.15'].isna().sum()\n",
    "print(\"NaN的数量:\", nan_count)\n",
    "\n",
    "index = data[data.loc[:, '结果.15'] == '-----'].index\n",
    "data.loc[index, '结果.15'] = data.loc[index, '结果.15'].replace('-----', np.nan)\n",
    "index = data[data.loc[:, '结果.15'] == '/'].index\n",
    "data.loc[index, '结果.15'] = data.loc[index, '结果.15'].replace('/', np.nan)\n",
    "index = data[data.loc[:, '结果.15'] == '、'].index\n",
    "data.loc[index, '结果.15'] = data.loc[index, '结果.15'].replace('、', np.nan)\n",
    "data.loc[:, '结果.15'] = data.loc[:, '结果.15'].astype('float32')\n",
    "\n",
    "# 填充NaN值为均值\n",
    "mean_value = round(data.loc[:, '结果.15'].mean(), 2)\n",
    "new_data['平均血小板体积'] = data.loc[:, '结果.15']\n",
    "new_data['平均血小板体积'].fillna(mean_value, inplace = True)\n",
    "print(new_data['平均血小板体积'])"
   ]
  },
  {
   "cell_type": "markdown",
   "metadata": {},
   "source": [
    "### 大血小板比率"
   ]
  },
  {
   "cell_type": "code",
   "execution_count": 94,
   "metadata": {},
   "outputs": [
    {
     "name": "stdout",
     "output_type": "stream",
     "text": [
      "0       %\n",
      "50    NaN\n",
      "Name: 结果单位.3, dtype: object\n",
      "NaN的数量: 79\n",
      "0       33.500000\n",
      "1       20.600000\n",
      "2       41.000000\n",
      "3       33.799999\n",
      "4       38.599998\n",
      "          ...    \n",
      "5776    45.500000\n",
      "5777    39.200001\n",
      "5778    34.900002\n",
      "5779    32.599998\n",
      "5780    35.700001\n",
      "Name: 大血小板比率, Length: 5781, dtype: float32\n"
     ]
    },
    {
     "name": "stderr",
     "output_type": "stream",
     "text": [
      "C:\\Users\\lianxiang\\AppData\\Local\\Temp\\ipykernel_27436\\1056913406.py:10: FutureWarning: In a future version, `df.iloc[:, i] = newvals` will attempt to set the values inplace instead of always setting a new array. To retain the old behavior, use either `df[df.columns[i]] = newvals` or, if columns are non-unique, `df.isetitem(i, newvals)`\n",
      "  data.loc[:, '结果.3'] = data.loc[:, '结果.3'].astype('float32')\n"
     ]
    }
   ],
   "source": [
    "print(data.loc[:, '结果单位.3'].drop_duplicates())\n",
    "\n",
    "nan_count = data.loc[:, '结果.3'].isna().sum()\n",
    "print(\"NaN的数量:\", nan_count)\n",
    "\n",
    "index = data[data.loc[:, '结果.3'] == '-----'].index\n",
    "data.loc[index, '结果.3'] = data.loc[index, '结果.3'].replace('-----', np.nan)\n",
    "index = data[data.loc[:, '结果.3'] == '/'].index\n",
    "data.loc[index, '结果.3'] = data.loc[index, '结果.3'].replace('/', np.nan)\n",
    "data.loc[:, '结果.3'] = data.loc[:, '结果.3'].astype('float32')\n",
    "\n",
    "# 填充NaN值为均值\n",
    "mean_value = round(data.loc[:, '结果.3'].mean(), 2)\n",
    "new_data['大血小板比率'] = data.loc[:, '结果.3']\n",
    "new_data['大血小板比率'].fillna(mean_value, inplace = True)\n",
    "print(new_data['大血小板比率'])"
   ]
  },
  {
   "cell_type": "markdown",
   "metadata": {},
   "source": [
    "### 红细胞"
   ]
  },
  {
   "cell_type": "code",
   "execution_count": 95,
   "metadata": {},
   "outputs": [
    {
     "name": "stderr",
     "output_type": "stream",
     "text": [
      "C:\\Users\\lianxiang\\AppData\\Local\\Temp\\ipykernel_27436\\3919203695.py:10: FutureWarning: In a future version, `df.iloc[:, i] = newvals` will attempt to set the values inplace instead of always setting a new array. To retain the old behavior, use either `df[df.columns[i]] = newvals` or, if columns are non-unique, `df.isetitem(i, newvals)`\n",
      "  data.loc[:, '结果.9'] = data.loc[:, '结果.9'].astype('float32')\n"
     ]
    },
    {
     "name": "stdout",
     "output_type": "stream",
     "text": [
      "0       *10^12/L\n",
      "50           NaN\n",
      "1081         /ul\n",
      "1454     10^12/L\n",
      "Name: 结果单位.9, dtype: object\n",
      "NaN的数量: 79\n",
      "0       5.09\n",
      "1       4.68\n",
      "2       3.03\n",
      "3       4.87\n",
      "4       3.94\n",
      "        ... \n",
      "5776    4.34\n",
      "5777    4.12\n",
      "5778    4.78\n",
      "5779    4.01\n",
      "5780    4.30\n",
      "Name: 红细胞, Length: 5781, dtype: float32\n"
     ]
    }
   ],
   "source": [
    "print(data.loc[:, '结果单位.9'].drop_duplicates())\n",
    "\n",
    "nan_count = data.loc[:, '结果.9'].isna().sum()\n",
    "print(\"NaN的数量:\", nan_count)\n",
    "\n",
    "index = data[data.loc[:, '结果.9'] == '/'].index\n",
    "data.loc[index, '结果.9'] = data.loc[index, '结果.9'].replace('/', np.nan)\n",
    "index = data[data.loc[:, '结果.9'] == '、'].index\n",
    "data.loc[index, '结果.9'] = data.loc[index, '结果.9'].replace('、', np.nan)\n",
    "data.loc[:, '结果.9'] = data.loc[:, '结果.9'].astype('float32')\n",
    "\n",
    "# 填充NaN值为均值\n",
    "mean_value = round(data.loc[:, '结果.9'].mean(), 2)\n",
    "new_data['红细胞'] = data.loc[:, '结果.9']\n",
    "new_data['红细胞'].fillna(mean_value, inplace = True)\n",
    "print(new_data['红细胞'])"
   ]
  },
  {
   "cell_type": "markdown",
   "metadata": {},
   "source": [
    "### 手术时长"
   ]
  },
  {
   "cell_type": "code",
   "execution_count": 96,
   "metadata": {},
   "outputs": [
    {
     "name": "stdout",
     "output_type": "stream",
     "text": [
      "NaN的数量: 8\n",
      "0       147\n",
      "1       288\n",
      "2       108\n",
      "3       117\n",
      "4       107\n",
      "       ... \n",
      "5776     82\n",
      "5777     22\n",
      "5778     46\n",
      "5779    116\n",
      "5780    284\n",
      "Name: 手术时长, Length: 5781, dtype: int32\n",
      "NaN的数量: 0\n"
     ]
    }
   ],
   "source": [
    "data['手术开始时间'] = pd.to_datetime(data['手术开始时间'])\n",
    "data['手术结束时间'] = pd.to_datetime(data['手术结束时间'])\n",
    "\n",
    "# 计算手术时长/分钟\n",
    "new_data['手术时长'] = (data['手术结束时间'] - data['手术开始时间']).dt.total_seconds() // 60\n",
    "\n",
    "nan_count = new_data['手术时长'].isna().sum()\n",
    "print(\"NaN的数量:\", nan_count)\n",
    "\n",
    "mean_value = new_data['手术时长'].mean()\n",
    "\n",
    "# 填充NaN值为均值\n",
    "new_data['手术时长'].fillna(mean_value, inplace = True)\n",
    "new_data['手术时长'] = new_data['手术时长'].round(0).astype(int)\n",
    "print(new_data['手术时长'])\n",
    "\n",
    "nan_count = new_data['手术时长'].isna().sum()\n",
    "print(\"NaN的数量:\", nan_count)"
   ]
  },
  {
   "cell_type": "markdown",
   "metadata": {},
   "source": [
    "### 年龄"
   ]
  },
  {
   "cell_type": "code",
   "execution_count": 97,
   "metadata": {},
   "outputs": [
    {
     "name": "stdout",
     "output_type": "stream",
     "text": [
      "0       54\n",
      "1       74\n",
      "2       70\n",
      "3       66\n",
      "4       64\n",
      "        ..\n",
      "5776    74\n",
      "5777    37\n",
      "5778    37\n",
      "5779    36\n",
      "5780    69\n",
      "Name: age, Length: 5781, dtype: int64\n"
     ]
    }
   ],
   "source": [
    "data['入院时间'] = pd.to_datetime(data['入院时间'], format=\"%Y-%m-%d %H:%M:%S.%f\")\n",
    "data['出生年月'] = pd.to_datetime(data['出生年月'], format=\"%Y-%m-%d\")\n",
    "\n",
    "# 计算年龄\n",
    "new_data['age'] = (data['入院时间'] - data['出生年月']) // pd.Timedelta(days=365)\n",
    "print(new_data['age'])"
   ]
  },
  {
   "cell_type": "markdown",
   "metadata": {},
   "source": [
    "### 性别"
   ]
  },
  {
   "cell_type": "code",
   "execution_count": 98,
   "metadata": {},
   "outputs": [
    {
     "name": "stdout",
     "output_type": "stream",
     "text": [
      "0       1\n",
      "1       1\n",
      "2       1\n",
      "3       1\n",
      "4       0\n",
      "       ..\n",
      "5776    0\n",
      "5777    0\n",
      "5778    0\n",
      "5779    0\n",
      "5780    1\n",
      "Name: gender, Length: 5781, dtype: int32\n"
     ]
    }
   ],
   "source": [
    "label_encoder = LabelEncoder()\n",
    "new_data['gender'] = label_encoder.fit_transform(data['性别'])\n",
    "print(new_data['gender'])"
   ]
  },
  {
   "cell_type": "markdown",
   "metadata": {},
   "source": [
    "### 麻醉方式"
   ]
  },
  {
   "cell_type": "code",
   "execution_count": 99,
   "metadata": {},
   "outputs": [
    {
     "name": "stdout",
     "output_type": "stream",
     "text": [
      "0       26\n",
      "1       49\n",
      "2       49\n",
      "3       26\n",
      "4       31\n",
      "        ..\n",
      "5776    49\n",
      "5777    15\n",
      "5778    38\n",
      "5779    49\n",
      "5780    49\n",
      "Name: 麻醉方式, Length: 5781, dtype: int32\n"
     ]
    }
   ],
   "source": [
    "label_encoder = LabelEncoder()\n",
    "new_data['麻醉方式'] = label_encoder.fit_transform(data['麻醉方式'])\n",
    "print(new_data['麻醉方式'])"
   ]
  },
  {
   "cell_type": "markdown",
   "metadata": {},
   "source": [
    "### asa 分级"
   ]
  },
  {
   "cell_type": "code",
   "execution_count": 100,
   "metadata": {},
   "outputs": [
    {
     "name": "stdout",
     "output_type": "stream",
     "text": [
      "0       1\n",
      "1       1\n",
      "2       1\n",
      "3       2\n",
      "4       1\n",
      "       ..\n",
      "5776    1\n",
      "5777    0\n",
      "5778    0\n",
      "5779    0\n",
      "5780    1\n",
      "Name: asa分级, Length: 5781, dtype: int32\n"
     ]
    }
   ],
   "source": [
    "department_map = {\n",
    "    \"Ⅰ\": 0,\n",
    "    \"I\": 0,\n",
    "    \"Ⅱ\": 1,\n",
    "    \"II\": 1,\n",
    "    \"Ⅲ\": 2,\n",
    "    \"ⅡE\": 3,\n",
    "    \"Ⅱ-E\": 3,\n",
    "    \"Ⅳ\": 4,\n",
    "    \"ⅢE\": 5,\n",
    "    \"ⅢＥ\": 5,\n",
    "    \"ⅣE\": 6,\n",
    "    \"Ⅳ-E\": 6,\n",
    "    \"ⅠE\": 7,\n",
    "    \"IE\": 7,\n",
    "    \"ⅤE\": 8,\n",
    "    \"Ⅴ-E\": 8,\n",
    "    \"162\": 9,\n",
    "}\n",
    "\n",
    "# 使用map函数将中文科室映射为数字标签\n",
    "new_data['asa分级'] = data['asa分级'].map(department_map)\n",
    "# 中位数填充 NaN\n",
    "median = new_data['asa分级'].median()\n",
    "new_data['asa分级'].fillna(median, inplace = True)\n",
    "\n",
    "new_data['asa分级'] = new_data['asa分级'].round(0).astype(int)\n",
    "\n",
    "print(new_data['asa分级'])\n"
   ]
  },
  {
   "cell_type": "markdown",
   "metadata": {},
   "source": [
    "### 身高"
   ]
  },
  {
   "cell_type": "code",
   "execution_count": 101,
   "metadata": {},
   "outputs": [
    {
     "name": "stdout",
     "output_type": "stream",
     "text": [
      "NaN的数量: 46\n",
      "0       167.0\n",
      "1       168.0\n",
      "2       162.0\n",
      "3       184.0\n",
      "4       163.0\n",
      "        ...  \n",
      "5776    155.0\n",
      "5777    162.0\n",
      "5778    156.0\n",
      "5779    163.0\n",
      "5780    165.0\n",
      "Name: 身高, Length: 5781, dtype: float64\n"
     ]
    }
   ],
   "source": [
    "nan_count = data.loc[:, '身高'].isna().sum()\n",
    "print(\"NaN的数量:\", nan_count)\n",
    "\n",
    "# 填充NaN值为均值\n",
    "new_data['身高'] = data.loc[:, '身高']\n",
    "mean_value = round(data.loc[:, '身高'].mean(), 2)\n",
    "new_data['身高'].fillna(mean_value, inplace = True)\n",
    "print(new_data['身高'])"
   ]
  },
  {
   "cell_type": "markdown",
   "metadata": {},
   "source": [
    "### 体重"
   ]
  },
  {
   "cell_type": "code",
   "execution_count": 102,
   "metadata": {},
   "outputs": [
    {
     "name": "stdout",
     "output_type": "stream",
     "text": [
      "NaN的数量: 76\n",
      "0       72.0\n",
      "1       58.0\n",
      "2       60.0\n",
      "3       68.0\n",
      "4       65.0\n",
      "        ... \n",
      "5776    44.8\n",
      "5777    60.0\n",
      "5778    52.0\n",
      "5779    76.0\n",
      "5780    78.0\n",
      "Name: 体重, Length: 5781, dtype: float64\n"
     ]
    }
   ],
   "source": [
    "nan_count = data.loc[:, '体重'].isna().sum()\n",
    "print(\"NaN的数量:\", nan_count)\n",
    "\n",
    "# 填充NaN值为均值\n",
    "new_data['体重'] = data.loc[:, '体重']\n",
    "mean_value = round(data.loc[:, '体重'].mean(), 2)\n",
    "new_data['体重'].fillna(mean_value, inplace = True)\n",
    "print(new_data['体重'])"
   ]
  },
  {
   "cell_type": "markdown",
   "metadata": {},
   "source": [
    "### 血压/高"
   ]
  },
  {
   "cell_type": "code",
   "execution_count": 103,
   "metadata": {},
   "outputs": [
    {
     "name": "stdout",
     "output_type": "stream",
     "text": [
      "NaN的数量: 7\n",
      "0       109.0\n",
      "1       128.0\n",
      "2       127.0\n",
      "3       139.0\n",
      "4       138.0\n",
      "        ...  \n",
      "5776    150.0\n",
      "5777    126.0\n",
      "5778    114.0\n",
      "5779    129.0\n",
      "5780    131.0\n",
      "Name: 血压/高, Length: 5781, dtype: float64\n"
     ]
    }
   ],
   "source": [
    "nan_count = data.loc[:, '血压/高'].isna().sum()\n",
    "print(\"NaN的数量:\", nan_count)\n",
    "\n",
    "# 填充NaN值为均值\n",
    "new_data['血压/高'] = data.loc[:, '血压/高']\n",
    "mean_value = round(data.loc[:, '血压/高'].mean(), 2)\n",
    "new_data['血压/高'].fillna(mean_value, inplace = True)\n",
    "print(new_data['血压/高'])"
   ]
  },
  {
   "cell_type": "markdown",
   "metadata": {},
   "source": [
    "### 血压/低"
   ]
  },
  {
   "cell_type": "code",
   "execution_count": 104,
   "metadata": {},
   "outputs": [
    {
     "name": "stdout",
     "output_type": "stream",
     "text": [
      "NaN的数量: 7\n",
      "0       74.0\n",
      "1       75.0\n",
      "2       68.0\n",
      "3       77.0\n",
      "4       78.0\n",
      "        ... \n",
      "5776    65.0\n",
      "5777    80.0\n",
      "5778    72.0\n",
      "5779    67.0\n",
      "5780    80.0\n",
      "Name: 血压/低, Length: 5781, dtype: float64\n"
     ]
    }
   ],
   "source": [
    "nan_count = data.loc[:, '血压/低'].isna().sum()\n",
    "print(\"NaN的数量:\", nan_count)\n",
    "\n",
    "# 填充NaN值为均值\n",
    "new_data['血压/低'] = data.loc[:, '血压/低']\n",
    "mean_value = round(data.loc[:, '血压/低'].mean(), 2)\n",
    "new_data['血压/低'].fillna(mean_value, inplace = True)\n",
    "print(new_data['血压/低'])"
   ]
  },
  {
   "cell_type": "markdown",
   "metadata": {},
   "source": [
    "### 白细胞"
   ]
  },
  {
   "cell_type": "code",
   "execution_count": 105,
   "metadata": {},
   "outputs": [
    {
     "name": "stdout",
     "output_type": "stream",
     "text": [
      "0       *10^9/L\n",
      "50          NaN\n",
      "175         /ul\n",
      "1081        /μL\n",
      "1297    Cell/ul\n",
      "1454     10^9/L\n",
      "Name: 结果单位, dtype: object\n",
      "NaN的数量: 79\n"
     ]
    }
   ],
   "source": [
    "print(data.iloc[:, 123].drop_duplicates())\n",
    "\n",
    "nan_count = data.iloc[:, 122].isna().sum()\n",
    "print(\"NaN的数量:\", nan_count)"
   ]
  },
  {
   "cell_type": "code",
   "execution_count": 106,
   "metadata": {},
   "outputs": [
    {
     "name": "stdout",
     "output_type": "stream",
     "text": [
      "0        5.37\n",
      "1        7.24\n",
      "2        4.40\n",
      "3       10.44\n",
      "4       12.01\n",
      "        ...  \n",
      "5776     6.86\n",
      "5777     5.73\n",
      "5778     5.95\n",
      "5779     4.56\n",
      "5780     4.92\n",
      "Name: 白细胞, Length: 5781, dtype: float64\n"
     ]
    },
    {
     "name": "stderr",
     "output_type": "stream",
     "text": [
      "C:\\Users\\lianxiang\\AppData\\Local\\Temp\\ipykernel_27436\\2756216952.py:14: FutureWarning: The default value of regex will change from True to False in a future version. In addition, single character regular expressions will *not* be treated as literal strings when regex=True.\n",
      "  data.loc[index, '结果'] = data.loc[index, '结果'].str.replace('+', '.0').astype('float32')\n"
     ]
    }
   ],
   "source": [
    "index = data[data.iloc[:, 123] == '/ul'].index\n",
    "data.loc[index, '结果'] = data.loc[index, '结果'].astype('float32')\n",
    "data.loc[index, '结果'] = data.loc[index, '结果'] * 0.001\n",
    "\n",
    "index = data[data.iloc[:, 123] == '/μL'].index\n",
    "data.loc[index, '结果'] = data.loc[index, '结果'].astype('float32')\n",
    "data.loc[index, '结果'] = data.loc[index, '结果'] * 0.001\n",
    "\n",
    "# 将‘-’改为 NaN\n",
    "index = data[data.iloc[:, 122] == '-'].index\n",
    "data.loc[index, '结果'] = data.loc[index, '结果'].replace('-', np.nan)\n",
    "\n",
    "index = data[data.iloc[:, 123] == 'Cell/ul'].index\n",
    "data.loc[index, '结果'] = data.loc[index, '结果'].str.replace('+', '.0').astype('float32')\n",
    "data.loc[index, '结果'] = data.loc[index, '结果'].astype('float32')\n",
    "data.loc[index, '结果'] = data.loc[index, '结果'] * 0.001\n",
    "\n",
    "data['结果'] = pd.to_numeric(data['结果'], errors='coerce')\n",
    "new_data['白细胞'] = data.iloc[:, 122]\n",
    "mean_value = data['结果'].mean()\n",
    "\n",
    "# 填充NaN值为均值\n",
    "new_data['白细胞'].fillna(mean_value, inplace = True)\n",
    "new_data['白细胞'] = new_data['白细胞'].round(2)\n",
    "print(new_data['白细胞'])"
   ]
  },
  {
   "cell_type": "markdown",
   "metadata": {},
   "source": [
    "### 丙氨酸基转移酶"
   ]
  },
  {
   "cell_type": "code",
   "execution_count": 107,
   "metadata": {},
   "outputs": [
    {
     "name": "stdout",
     "output_type": "stream",
     "text": [
      "0       12\n",
      "1       79\n",
      "2       16\n",
      "3       47\n",
      "4       24\n",
      "        ..\n",
      "5776    17\n",
      "5777     8\n",
      "5778    10\n",
      "5779    12\n",
      "5780    39\n",
      "Name: ALT, Length: 5781, dtype: int32\n"
     ]
    },
    {
     "name": "stderr",
     "output_type": "stream",
     "text": [
      "C:\\Users\\lianxiang\\AppData\\Local\\Temp\\ipykernel_27436\\2188968952.py:5: FutureWarning: In a future version, `df.iloc[:, i] = newvals` will attempt to set the values inplace instead of always setting a new array. To retain the old behavior, use either `df[df.columns[i]] = newvals` or, if columns are non-unique, `df.isetitem(i, newvals)`\n",
      "  data.loc[:, '结果.1'] = data.loc[:, '结果.1'].astype('float32') # NaN 还没填\n"
     ]
    }
   ],
   "source": [
    "# 将 '<6' 改为 5\n",
    "index = data[data.iloc[:, 125] == '<6'].index\n",
    "data.loc[index, '结果.1'] = data.loc[index, '结果.1'].replace('<6', int(5))\n",
    "\n",
    "data.loc[:, '结果.1'] = data.loc[:, '结果.1'].astype('float32') # NaN 还没填\n",
    "\n",
    "#print(data.iloc[:10, 125])\n",
    "mean_value = round(data.iloc[:, 125].mean(), 1)\n",
    "#print(mean_value)\n",
    "\n",
    "# 填充NaN值为均值\n",
    "new_data['ALT'] = data.iloc[:, 125]\n",
    "new_data['ALT'].fillna(mean_value, inplace = True)\n",
    "new_data['ALT'] = new_data['ALT'].astype('int')\n",
    "print(new_data['ALT'])"
   ]
  },
  {
   "cell_type": "markdown",
   "metadata": {},
   "source": [
    "### 肾小球滤过率"
   ]
  },
  {
   "cell_type": "code",
   "execution_count": 108,
   "metadata": {},
   "outputs": [
    {
     "name": "stdout",
     "output_type": "stream",
     "text": [
      "0     ml/min/1.73m^2\n",
      "44               NaN\n",
      "Name: 结果单位.8, dtype: object\n",
      "NaN的数量: 575\n",
      "0       110.0\n",
      "1        85.0\n",
      "2        77.0\n",
      "3        73.0\n",
      "4       100.0\n",
      "        ...  \n",
      "5776     89.0\n",
      "5777    103.0\n",
      "5778    105.0\n",
      "5779    113.0\n",
      "5780     97.0\n",
      "Name: 肾小球滤过率, Length: 5781, dtype: float64\n"
     ]
    }
   ],
   "source": [
    "print(data.iloc[:, 147].drop_duplicates())\n",
    "\n",
    "nan_count = data.iloc[:, 146].isna().sum()\n",
    "print(\"NaN的数量:\", nan_count)\n",
    "\n",
    "#print(data.iloc[:5, 146])\n",
    "\n",
    "# 填充NaN值为均值\n",
    "mean_value = round(data.iloc[:, 146].mean(), 2)\n",
    "new_data['肾小球滤过率'] = data.iloc[:, 146]\n",
    "new_data['肾小球滤过率'].fillna(mean_value, inplace = True)\n",
    "print(new_data['肾小球滤过率'])"
   ]
  },
  {
   "cell_type": "markdown",
   "metadata": {},
   "source": [
    "### 肌酐"
   ]
  },
  {
   "cell_type": "code",
   "execution_count": 109,
   "metadata": {},
   "outputs": [
    {
     "name": "stdout",
     "output_type": "stream",
     "text": [
      "0     μmol/L\n",
      "4     umol/L\n",
      "50       NaN\n",
      "Name: 结果单位.11, dtype: object\n",
      "NaN的数量: 154\n",
      "0       58.0\n",
      "1       77.0\n",
      "2       88.0\n",
      "3       94.0\n",
      "4       48.0\n",
      "        ... \n",
      "5776    56.0\n",
      "5777    66.0\n",
      "5778    65.0\n",
      "5779    60.0\n",
      "5780    61.0\n",
      "Name: 肌酐, Length: 5781, dtype: float32\n"
     ]
    },
    {
     "name": "stderr",
     "output_type": "stream",
     "text": [
      "C:\\Users\\lianxiang\\AppData\\Local\\Temp\\ipykernel_27436\\487557214.py:11: FutureWarning: In a future version, `df.iloc[:, i] = newvals` will attempt to set the values inplace instead of always setting a new array. To retain the old behavior, use either `df[df.columns[i]] = newvals` or, if columns are non-unique, `df.isetitem(i, newvals)`\n",
      "  data.iloc[:, 155] = data.iloc[:, 155].astype('float32')\n"
     ]
    }
   ],
   "source": [
    "print(data.iloc[:, 156].drop_duplicates())\n",
    "\n",
    "nan_count = data.iloc[:, 155].isna().sum()\n",
    "print(\"NaN的数量:\", nan_count)\n",
    "\n",
    "#print(data.iloc[:5, 155])\n",
    "\n",
    "# 将 '脂血' 改为 nan 再转数据类型均值填充\n",
    "index = data[data.iloc[:, 155] == '脂血'].index\n",
    "data.iloc[index, 155] = data.iloc[index, 155].replace('脂血', np.nan)\n",
    "data.iloc[:, 155] = data.iloc[:, 155].astype('float32')\n",
    "\n",
    "# 填充NaN值为均值\n",
    "mean_value = round(data.iloc[:, 155].mean(), 2)\n",
    "new_data['肌酐'] = data.iloc[:, 155]\n",
    "new_data['肌酐'].fillna(mean_value, inplace = True)\n",
    "print(new_data['肌酐'])"
   ]
  },
  {
   "cell_type": "markdown",
   "metadata": {},
   "source": [
    "### 钾"
   ]
  },
  {
   "cell_type": "code",
   "execution_count": 110,
   "metadata": {},
   "outputs": [
    {
     "name": "stdout",
     "output_type": "stream",
     "text": [
      "0     mmol/L\n",
      "7        NaN\n",
      "87    mmol/l\n",
      "Name: 结果单位.12, dtype: object\n",
      "NaN的数量: 907\n",
      "0       4.44\n",
      "1       5.17\n",
      "2       3.07\n",
      "3       3.95\n",
      "4       3.92\n",
      "        ... \n",
      "5776    3.90\n",
      "5777    4.09\n",
      "5778    4.13\n",
      "5779    4.15\n",
      "5780    3.80\n",
      "Name: K, Length: 5781, dtype: float32\n"
     ]
    },
    {
     "name": "stderr",
     "output_type": "stream",
     "text": [
      "C:\\Users\\lianxiang\\AppData\\Local\\Temp\\ipykernel_27436\\1159766978.py:15: FutureWarning: In a future version, `df.iloc[:, i] = newvals` will attempt to set the values inplace instead of always setting a new array. To retain the old behavior, use either `df[df.columns[i]] = newvals` or, if columns are non-unique, `df.isetitem(i, newvals)`\n",
      "  data.iloc[:, 158] = data.iloc[:, 158].astype('float32')\n"
     ]
    }
   ],
   "source": [
    "print(data.iloc[:, 159].drop_duplicates())\n",
    "\n",
    "nan_count = data.iloc[:, 158].isna().sum()\n",
    "print(\"NaN的数量:\", nan_count)\n",
    "\n",
    "#print(data.iloc[:5, 158])\n",
    "#data.iloc[:, 158] = data.iloc[:, 158].astype('float32')\n",
    "\n",
    "# 将 '陈旧血', '复查' 改为 nan 再转数据类型均值填充\n",
    "index = data[data.iloc[:, 158] == '陈旧血'].index\n",
    "data.iloc[index, 158] = data.iloc[index, 158].replace('陈旧血', np.nan)\n",
    "\n",
    "index = data[data.iloc[:, 158] == '复查'].index\n",
    "data.iloc[index, 158] = data.iloc[index, 158].replace('复查', np.nan)\n",
    "data.iloc[:, 158] = data.iloc[:, 158].astype('float32')\n",
    "\n",
    "# 填充NaN值为均值\n",
    "mean_value = round(data.iloc[:, 158].mean(), 2)\n",
    "new_data['K'] = data.iloc[:, 158]\n",
    "new_data['K'].fillna(mean_value, inplace = True)\n",
    "print(new_data['K'])"
   ]
  },
  {
   "cell_type": "markdown",
   "metadata": {},
   "source": [
    "### 尿酸"
   ]
  },
  {
   "cell_type": "code",
   "execution_count": 111,
   "metadata": {},
   "outputs": [
    {
     "name": "stdout",
     "output_type": "stream",
     "text": [
      "0       μmol/L\n",
      "10      umol/L\n",
      "50         NaN\n",
      "1297    umol/l\n",
      "Name: 结果单位.14, dtype: object\n",
      "NaN的数量: 214\n",
      "0       277.0\n",
      "1       395.0\n",
      "2       335.0\n",
      "3       483.0\n",
      "4       237.0\n",
      "        ...  \n",
      "5776    305.0\n",
      "5777    274.0\n",
      "5778    240.0\n",
      "5779    221.0\n",
      "5780    304.0\n",
      "Name: 尿酸, Length: 5781, dtype: float64\n"
     ]
    }
   ],
   "source": [
    "print(data.iloc[:, 165].drop_duplicates())\n",
    "\n",
    "nan_count = data.iloc[:, 164].isna().sum()\n",
    "print(\"NaN的数量:\", nan_count)\n",
    "\n",
    "#print(data.iloc[:5, 164])\n",
    "\n",
    "# 填充NaN值为均值\n",
    "mean_value = round(data.iloc[:, 164].mean(), 2)\n",
    "new_data['尿酸'] = data.iloc[:, 164]\n",
    "new_data['尿酸'].fillna(mean_value, inplace = True)\n",
    "print(new_data['尿酸'])"
   ]
  },
  {
   "cell_type": "markdown",
   "metadata": {},
   "source": [
    "### 葡萄糖"
   ]
  },
  {
   "cell_type": "code",
   "execution_count": 112,
   "metadata": {},
   "outputs": [
    {
     "name": "stdout",
     "output_type": "stream",
     "text": [
      "0     mmol/L\n",
      "45    mmol/l\n",
      "50       NaN\n",
      "Name: 结果单位.16, dtype: object\n",
      "NaN的数量: 404\n",
      "0                               6.4\n",
      "1                               4.7\n",
      "2                               4.1\n",
      "3                               5.1\n",
      "4    9.2                           \n",
      "Name: 结果.16, dtype: object\n",
      "0       6.40\n",
      "1       4.70\n",
      "2       4.10\n",
      "3       5.10\n",
      "4       9.20\n",
      "        ... \n",
      "5776    6.14\n",
      "5777    5.10\n",
      "5778    4.90\n",
      "5779    5.30\n",
      "5780    5.00\n",
      "Name: 血糖, Length: 5781, dtype: float32\n"
     ]
    },
    {
     "name": "stderr",
     "output_type": "stream",
     "text": [
      "C:\\Users\\lianxiang\\AppData\\Local\\Temp\\ipykernel_27436\\1261747623.py:26: FutureWarning: In a future version, `df.iloc[:, i] = newvals` will attempt to set the values inplace instead of always setting a new array. To retain the old behavior, use either `df[df.columns[i]] = newvals` or, if columns are non-unique, `df.isetitem(i, newvals)`\n",
      "  data.iloc[:, 170] = data.iloc[:, 170].astype('float32')\n"
     ]
    }
   ],
   "source": [
    "print(data.iloc[:, 171].drop_duplicates())\n",
    "\n",
    "nan_count = data.iloc[:, 170].isna().sum()\n",
    "print(\"NaN的数量:\", nan_count)\n",
    "\n",
    "print(data.iloc[:5, 170])\n",
    "#data.iloc[:, 170] = data.iloc[:, 170].astype('float32')\n",
    "\n",
    "# 将 '-', '陈旧血' 改为 nan 再转数据类型均值填充\n",
    "index = data[data.iloc[:, 170] == '-'].index\n",
    "data.iloc[index, 170] = data.iloc[index, 170].replace('-', np.nan)\n",
    "\n",
    "index = data[data.iloc[:, 170] == '陈旧血'].index\n",
    "data.iloc[index, 170] = data.iloc[index, 170].replace('陈旧血', np.nan)\n",
    "\n",
    "index = data[data.iloc[:, 170] == '1+'].index\n",
    "data.iloc[index, 170] = data.iloc[index, 170].replace('1+', 1.0)\n",
    "\n",
    "index = data[data.iloc[:, 170] == '2+'].index\n",
    "data.iloc[index, 170] = data.iloc[index, 170].replace('2+', 2.0)\n",
    "\n",
    "index = data[data.iloc[:, 170] == '3+'].index\n",
    "data.iloc[index, 170] = data.iloc[index, 170].replace('3+', 3.0)\n",
    "\n",
    "#data.iloc[:, 170] = data.iloc[:, 170].str.replace('+', '.0').astype('float32')\n",
    "data.iloc[:, 170] = data.iloc[:, 170].astype('float32')\n",
    "\n",
    "# 填充NaN值为均值\n",
    "mean_value = round(data.iloc[:, 170].mean(), 2)\n",
    "new_data['血糖'] = data.iloc[:, 170]\n",
    "new_data['血糖'].fillna(mean_value, inplace = True)\n",
    "print(new_data['血糖'])"
   ]
  },
  {
   "cell_type": "markdown",
   "metadata": {},
   "source": [
    "### 总胆红素"
   ]
  },
  {
   "cell_type": "code",
   "execution_count": 113,
   "metadata": {},
   "outputs": [
    {
     "name": "stdout",
     "output_type": "stream",
     "text": [
      "0     μmol/L\n",
      "4     umol/L\n",
      "50       NaN\n",
      "Name: 结果单位.24, dtype: object\n",
      "NaN的数量: 152\n",
      "0       12.100000\n",
      "1        7.700000\n",
      "2       12.700000\n",
      "3       32.700001\n",
      "4       16.900000\n",
      "          ...    \n",
      "5776     7.670000\n",
      "5777    19.000000\n",
      "5778    16.000000\n",
      "5779     5.500000\n",
      "5780    15.000000\n",
      "Name: 总胆红素, Length: 5781, dtype: float32\n"
     ]
    },
    {
     "name": "stderr",
     "output_type": "stream",
     "text": [
      "C:\\Users\\lianxiang\\AppData\\Local\\Temp\\ipykernel_27436\\791229074.py:15: FutureWarning: In a future version, `df.iloc[:, i] = newvals` will attempt to set the values inplace instead of always setting a new array. To retain the old behavior, use either `df[df.columns[i]] = newvals` or, if columns are non-unique, `df.isetitem(i, newvals)`\n",
      "  data.loc[:, '结果.24'] = data.loc[:, '结果.24'].astype('float32')\n"
     ]
    }
   ],
   "source": [
    "print(data.loc[:, '结果单位.24'].drop_duplicates())\n",
    "\n",
    "nan_count = data.loc[:, '结果.24'].isna().sum()\n",
    "print(\"NaN的数量:\", nan_count)\n",
    "\n",
    "#print(data.loc[:5, '结果.24'])\n",
    "#data.loc[:, '结果.24'] = data.loc[:, '结果.24'].astype('float32')\n",
    "\n",
    "# 将 '<1.7' 改为 1.6 ，'脂血' 改为 nan，再转数据类型均值填充\n",
    "index = data[data.loc[:, '结果.24'] == '<1.7'].index\n",
    "data.loc[index, '结果.24'] = data.loc[index, '结果.24'].replace('<1.7', 1.6)\n",
    "\n",
    "index = data[data.loc[:, '结果.24'] == '脂血'].index\n",
    "data.loc[index, '结果.24'] = data.loc[index, '结果.24'].replace('脂血', np.nan)\n",
    "data.loc[:, '结果.24'] = data.loc[:, '结果.24'].astype('float32')\n",
    "\n",
    "# 填充NaN值为均值\n",
    "mean_value = round(data.loc[:, '结果.24'].mean(), 2)\n",
    "new_data['总胆红素'] = data.loc[:, '结果.24']\n",
    "new_data['总胆红素'].fillna(mean_value, inplace = True)\n",
    "print(new_data['总胆红素'])"
   ]
  },
  {
   "cell_type": "markdown",
   "metadata": {},
   "source": [
    "### 吸烟、饮酒史"
   ]
  },
  {
   "cell_type": "code",
   "execution_count": 114,
   "metadata": {},
   "outputs": [
    {
     "name": "stdout",
     "output_type": "stream",
     "text": [
      "0       0\n",
      "1       1\n",
      "2       0\n",
      "3       1\n",
      "4       0\n",
      "       ..\n",
      "5776    0\n",
      "5777    0\n",
      "5778    0\n",
      "5779    0\n",
      "5780    1\n",
      "Name: 是否吸烟, Length: 5781, dtype: int64\n"
     ]
    }
   ],
   "source": [
    "new_data['是否吸烟'] = data.loc[:, '是否吸烟']\n",
    "print(new_data['是否吸烟'])"
   ]
  },
  {
   "cell_type": "code",
   "execution_count": 115,
   "metadata": {},
   "outputs": [
    {
     "name": "stdout",
     "output_type": "stream",
     "text": [
      "0       0\n",
      "1       0\n",
      "2       0\n",
      "3       1\n",
      "4       0\n",
      "       ..\n",
      "5776    0\n",
      "5777    0\n",
      "5778    0\n",
      "5779    0\n",
      "5780    0\n",
      "Name: 是否饮酒, Length: 5781, dtype: int64\n"
     ]
    }
   ],
   "source": [
    "new_data['是否饮酒'] = data.loc[:, '是否饮酒']\n",
    "print(new_data['是否饮酒'])"
   ]
  },
  {
   "cell_type": "markdown",
   "metadata": {},
   "source": [
    "### 手术史"
   ]
  },
  {
   "cell_type": "code",
   "execution_count": 116,
   "metadata": {},
   "outputs": [
    {
     "name": "stdout",
     "output_type": "stream",
     "text": [
      "0       1\n",
      "1       0\n",
      "2       1\n",
      "3       1\n",
      "4       1\n",
      "       ..\n",
      "5776    0\n",
      "5777    1\n",
      "5778    0\n",
      "5779    0\n",
      "5780    0\n",
      "Name: 是否有手术史, Length: 5781, dtype: int64\n"
     ]
    }
   ],
   "source": [
    "new_data['是否有手术史'] = data.loc[:, '是否手术']\n",
    "print(new_data['是否有手术史'])"
   ]
  },
  {
   "cell_type": "markdown",
   "metadata": {},
   "source": [
    "### label"
   ]
  },
  {
   "cell_type": "code",
   "execution_count": 117,
   "metadata": {},
   "outputs": [
    {
     "name": "stdout",
     "output_type": "stream",
     "text": [
      "0       1\n",
      "1       1\n",
      "2       1\n",
      "3       1\n",
      "4       1\n",
      "       ..\n",
      "5776    0\n",
      "5777    0\n",
      "5778    0\n",
      "5779    0\n",
      "5780    0\n",
      "Name: label, Length: 5781, dtype: int64\n"
     ]
    }
   ],
   "source": [
    "new_data['label'] = data['分类']\n",
    "print(new_data['label'])"
   ]
  },
  {
   "cell_type": "markdown",
   "metadata": {},
   "source": [
    "### SVM"
   ]
  },
  {
   "cell_type": "code",
   "execution_count": 118,
   "metadata": {},
   "outputs": [
    {
     "name": "stdout",
     "output_type": "stream",
     "text": [
      "Index(['钙', '钠', '低密度脂蛋白胆固醇', '血小板', '血小板分布宽度', '血小板压积', '中性粒细胞百分比',\n",
      "       '中性粒细胞绝对值', '平均血小板体积', '大血小板比率', '红细胞', '手术时长', 'age', 'gender', '麻醉方式',\n",
      "       'asa分级', '身高', '体重', '血压/高', '血压/低', '白细胞', 'ALT', '肾小球滤过率', '肌酐', 'K',\n",
      "       '尿酸', '血糖', '总胆红素', '是否吸烟', '是否饮酒', '是否有手术史', 'label'],\n",
      "      dtype='object')\n"
     ]
    }
   ],
   "source": [
    "print(new_data.columns)"
   ]
  },
  {
   "cell_type": "code",
   "execution_count": 119,
   "metadata": {},
   "outputs": [
    {
     "data": {
      "text/html": [
       "<div>\n",
       "<style scoped>\n",
       "    .dataframe tbody tr th:only-of-type {\n",
       "        vertical-align: middle;\n",
       "    }\n",
       "\n",
       "    .dataframe tbody tr th {\n",
       "        vertical-align: top;\n",
       "    }\n",
       "\n",
       "    .dataframe thead th {\n",
       "        text-align: right;\n",
       "    }\n",
       "</style>\n",
       "<table border=\"1\" class=\"dataframe\">\n",
       "  <thead>\n",
       "    <tr style=\"text-align: right;\">\n",
       "      <th></th>\n",
       "      <th>feature_name</th>\n",
       "      <th>Score</th>\n",
       "    </tr>\n",
       "  </thead>\n",
       "  <tbody>\n",
       "    <tr>\n",
       "      <th>12</th>\n",
       "      <td>age</td>\n",
       "      <td>109.657273</td>\n",
       "    </tr>\n",
       "    <tr>\n",
       "      <th>15</th>\n",
       "      <td>asa分级</td>\n",
       "      <td>81.609376</td>\n",
       "    </tr>\n",
       "    <tr>\n",
       "      <th>28</th>\n",
       "      <td>是否吸烟</td>\n",
       "      <td>75.810351</td>\n",
       "    </tr>\n",
       "    <tr>\n",
       "      <th>29</th>\n",
       "      <td>是否饮酒</td>\n",
       "      <td>68.358747</td>\n",
       "    </tr>\n",
       "    <tr>\n",
       "      <th>30</th>\n",
       "      <td>是否有手术史</td>\n",
       "      <td>44.324348</td>\n",
       "    </tr>\n",
       "    <tr>\n",
       "      <th>13</th>\n",
       "      <td>gender</td>\n",
       "      <td>37.312446</td>\n",
       "    </tr>\n",
       "    <tr>\n",
       "      <th>22</th>\n",
       "      <td>肾小球滤过率</td>\n",
       "      <td>23.019955</td>\n",
       "    </tr>\n",
       "    <tr>\n",
       "      <th>18</th>\n",
       "      <td>血压/高</td>\n",
       "      <td>13.704153</td>\n",
       "    </tr>\n",
       "    <tr>\n",
       "      <th>0</th>\n",
       "      <td>钙</td>\n",
       "      <td>7.823104</td>\n",
       "    </tr>\n",
       "    <tr>\n",
       "      <th>26</th>\n",
       "      <td>血糖</td>\n",
       "      <td>4.531544</td>\n",
       "    </tr>\n",
       "    <tr>\n",
       "      <th>5</th>\n",
       "      <td>血小板压积</td>\n",
       "      <td>3.559292</td>\n",
       "    </tr>\n",
       "    <tr>\n",
       "      <th>3</th>\n",
       "      <td>血小板</td>\n",
       "      <td>3.499985</td>\n",
       "    </tr>\n",
       "    <tr>\n",
       "      <th>7</th>\n",
       "      <td>中性粒细胞绝对值</td>\n",
       "      <td>2.695178</td>\n",
       "    </tr>\n",
       "    <tr>\n",
       "      <th>6</th>\n",
       "      <td>中性粒细胞百分比</td>\n",
       "      <td>2.629993</td>\n",
       "    </tr>\n",
       "    <tr>\n",
       "      <th>14</th>\n",
       "      <td>麻醉方式</td>\n",
       "      <td>2.030549</td>\n",
       "    </tr>\n",
       "    <tr>\n",
       "      <th>2</th>\n",
       "      <td>低密度脂蛋白胆固醇</td>\n",
       "      <td>1.259608</td>\n",
       "    </tr>\n",
       "    <tr>\n",
       "      <th>27</th>\n",
       "      <td>总胆红素</td>\n",
       "      <td>1.154068</td>\n",
       "    </tr>\n",
       "    <tr>\n",
       "      <th>19</th>\n",
       "      <td>血压/低</td>\n",
       "      <td>0.566277</td>\n",
       "    </tr>\n",
       "    <tr>\n",
       "      <th>11</th>\n",
       "      <td>手术时长</td>\n",
       "      <td>0.482185</td>\n",
       "    </tr>\n",
       "    <tr>\n",
       "      <th>10</th>\n",
       "      <td>红细胞</td>\n",
       "      <td>0.267404</td>\n",
       "    </tr>\n",
       "    <tr>\n",
       "      <th>21</th>\n",
       "      <td>ALT</td>\n",
       "      <td>0.238094</td>\n",
       "    </tr>\n",
       "    <tr>\n",
       "      <th>23</th>\n",
       "      <td>肌酐</td>\n",
       "      <td>0.174285</td>\n",
       "    </tr>\n",
       "    <tr>\n",
       "      <th>8</th>\n",
       "      <td>平均血小板体积</td>\n",
       "      <td>0.073104</td>\n",
       "    </tr>\n",
       "    <tr>\n",
       "      <th>25</th>\n",
       "      <td>尿酸</td>\n",
       "      <td>0.062194</td>\n",
       "    </tr>\n",
       "    <tr>\n",
       "      <th>9</th>\n",
       "      <td>大血小板比率</td>\n",
       "      <td>0.058449</td>\n",
       "    </tr>\n",
       "    <tr>\n",
       "      <th>16</th>\n",
       "      <td>身高</td>\n",
       "      <td>0.046866</td>\n",
       "    </tr>\n",
       "    <tr>\n",
       "      <th>1</th>\n",
       "      <td>钠</td>\n",
       "      <td>0.010768</td>\n",
       "    </tr>\n",
       "    <tr>\n",
       "      <th>24</th>\n",
       "      <td>K</td>\n",
       "      <td>0.010161</td>\n",
       "    </tr>\n",
       "    <tr>\n",
       "      <th>20</th>\n",
       "      <td>白细胞</td>\n",
       "      <td>0.003193</td>\n",
       "    </tr>\n",
       "    <tr>\n",
       "      <th>17</th>\n",
       "      <td>体重</td>\n",
       "      <td>0.002892</td>\n",
       "    </tr>\n",
       "    <tr>\n",
       "      <th>4</th>\n",
       "      <td>血小板分布宽度</td>\n",
       "      <td>0.001582</td>\n",
       "    </tr>\n",
       "  </tbody>\n",
       "</table>\n",
       "</div>"
      ],
      "text/plain": [
       "   feature_name       Score\n",
       "12          age  109.657273\n",
       "15        asa分级   81.609376\n",
       "28         是否吸烟   75.810351\n",
       "29         是否饮酒   68.358747\n",
       "30       是否有手术史   44.324348\n",
       "13       gender   37.312446\n",
       "22       肾小球滤过率   23.019955\n",
       "18         血压/高   13.704153\n",
       "0             钙    7.823104\n",
       "26           血糖    4.531544\n",
       "5         血小板压积    3.559292\n",
       "3           血小板    3.499985\n",
       "7      中性粒细胞绝对值    2.695178\n",
       "6      中性粒细胞百分比    2.629993\n",
       "14         麻醉方式    2.030549\n",
       "2     低密度脂蛋白胆固醇    1.259608\n",
       "27         总胆红素    1.154068\n",
       "19         血压/低    0.566277\n",
       "11         手术时长    0.482185\n",
       "10          红细胞    0.267404\n",
       "21          ALT    0.238094\n",
       "23           肌酐    0.174285\n",
       "8       平均血小板体积    0.073104\n",
       "25           尿酸    0.062194\n",
       "9        大血小板比率    0.058449\n",
       "16           身高    0.046866\n",
       "1             钠    0.010768\n",
       "24            K    0.010161\n",
       "20          白细胞    0.003193\n",
       "17           体重    0.002892\n",
       "4       血小板分布宽度    0.001582"
      ]
     },
     "execution_count": 119,
     "metadata": {},
     "output_type": "execute_result"
    }
   ],
   "source": [
    "# 特征最影响结果的K个特征\n",
    "from sklearn.feature_selection import SelectKBest\n",
    "\n",
    "# 卡方检验，作为SelectKBest的参数\n",
    "from sklearn.feature_selection import chi2\n",
    "from sklearn.utils import shuffle\n",
    "from sklearn.preprocessing import MinMaxScaler\n",
    "\n",
    "\n",
    "data_f = shuffle(new_data)\n",
    "X = data_f[['钙', '钠', '低密度脂蛋白胆固醇', '血小板', '血小板分布宽度', '血小板压积', '中性粒细胞百分比',\n",
    "       '中性粒细胞绝对值', '平均血小板体积', '大血小板比率', '红细胞', '手术时长', 'age', 'gender', '麻醉方式',\n",
    "       'asa分级', '身高', '体重', '血压/高', '血压/低', '白细胞', 'ALT', '肾小球滤过率', '肌酐', 'K',\n",
    "       '尿酸', '血糖', '总胆红素', '是否吸烟', '是否饮酒', '是否有手术史']]\n",
    "y = data_f['label']\n",
    "\n",
    "scaler = MinMaxScaler(feature_range=(0, 1))\n",
    "X_ = scaler.fit_transform(X)\n",
    "df = pd.DataFrame(X_)\n",
    "\n",
    "bestfeatures = SelectKBest(score_func=chi2, k=len(df.columns))\n",
    "fit = bestfeatures.fit(X_, y)\n",
    "\n",
    "## 'age', '是否吸烟', 'asa分级', '是否饮酒', '是否有手术史', 'gender', '肾小球滤过率', '血压/高', '血小板压积', '血小板'\n",
    "\n",
    "df_scores = pd.DataFrame(fit.scores_)\n",
    "\n",
    "df_columns = pd.DataFrame(X.columns)\n",
    "\n",
    "# 合并两个df\n",
    "df_feature_scores = pd.concat([df_columns,df_scores],axis=1)\n",
    "# 列名\n",
    "df_feature_scores.columns = ['feature_name','Score']\n",
    "\n",
    "df_feature_scores.sort_values(by=\"Score\", ascending=False)"
   ]
  },
  {
   "cell_type": "code",
   "execution_count": 120,
   "metadata": {},
   "outputs": [
    {
     "name": "stdout",
     "output_type": "stream",
     "text": [
      "[0.78238342 0.75778547 0.76816609 0.78546713 0.80103806 0.75605536\n",
      " 0.7733564  0.7716263  0.77508651 0.7716263 ]\n",
      "0.7742591032145867\n"
     ]
    }
   ],
   "source": [
    "from sklearn.svm import SVC\n",
    "from sklearn.metrics import accuracy_score\n",
    "from sklearn.utils import shuffle\n",
    "from sklearn.model_selection import train_test_split, cross_val_score\n",
    "from skopt.space import Real, Categorical, Integer\n",
    "from skopt import BayesSearchCV\n",
    "\n",
    "data_f = shuffle(new_data)\n",
    "\n",
    "X = data_f[['age', 'asa分级']]\n",
    "'''X = data_f[['钙', '钠', '低密度脂蛋白胆固醇', '血小板', '血小板分布宽度', '血小板压积', '中性粒细胞百分比',\n",
    "       '中性粒细胞绝对值', '平均血小板体积', '大血小板比率', '红细胞', '手术时长', 'age', 'gender', '麻醉方式',\n",
    "       'asa分级', '身高', '体重', '血压/高', '血压/低', '白细胞', 'ALT', '肾小球滤过率', '肌酐', 'K',\n",
    "       '尿酸', '血糖', '总胆红素', '是否吸烟', '是否饮酒', '是否有手术史']]'''\n",
    "y = data_f['label']\n",
    "\n",
    "scaler = StandardScaler()\n",
    "X_ = scaler.fit_transform(X)\n",
    "\n",
    "# 划分训练集和测试集\n",
    "X_train, X_test, y_train, y_test = train_test_split(X_, y, test_size=0.2, random_state=42)\n",
    "# 创建SVM模型\n",
    "model = SVC(kernel='rbf')\n",
    "\n",
    "# 定义参数空间\n",
    "'''param_space = {\n",
    "    'C': Real(1e-1, 1e+1, prior='log-uniform'),\n",
    "    'gamma': Real(1e-1, 1e+1, prior='log-uniform'),\n",
    "    'degree': Integer(1, 8),\n",
    "    'coef0': Real(1e-1, 1e+1, prior='log-uniform')\n",
    "}'''\n",
    "\n",
    "'''opt = BayesSearchCV(model, param_space, n_iter=32, cv=5, random_state=42)\n",
    "\n",
    "# 在训练集上进行贝叶斯优化\n",
    "opt.fit(X_train, y_train)\n",
    "\n",
    "# 输出最优参数\n",
    "print(\"Best parameters found: \", opt.best_params_)'''\n",
    "\n",
    "scores = cross_val_score(model, X_, y, cv = 10, scoring = 'accuracy')\n",
    "print(scores)\n",
    "print(np.mean(scores))"
   ]
  },
  {
   "cell_type": "code",
   "execution_count": 121,
   "metadata": {},
   "outputs": [
    {
     "name": "stdout",
     "output_type": "stream",
     "text": [
      "  Feature  Importance\n",
      "0     age    0.574703\n",
      "1   asa分级    0.425297\n"
     ]
    }
   ],
   "source": [
    "from sklearn.ensemble import RandomForestClassifier\n",
    "import pandas as pd\n",
    "\n",
    "# 创建随机森林分类器\n",
    "rf_model = RandomForestClassifier(n_estimators=100, random_state=42)\n",
    "# 使用训练集训练模型\n",
    "rf_model.fit(X_train, y_train)\n",
    "\n",
    "# 获取特征重要性\n",
    "feature_importances = rf_model.feature_importances_\n",
    "\n",
    "# 将特征重要性与特征名对应起来\n",
    "feature_names = X.columns\n",
    "df_feature_importances = pd.DataFrame({'Feature': feature_names, 'Importance': feature_importances})\n",
    "\n",
    "# 按重要性降序排列\n",
    "df_feature_importances = df_feature_importances.sort_values(by='Importance', ascending=False)\n",
    "\n",
    "# 打印特征重要性\n",
    "print(df_feature_importances)\n"
   ]
  },
  {
   "cell_type": "markdown",
   "metadata": {},
   "source": [
    "### decisionTree"
   ]
  },
  {
   "cell_type": "code",
   "execution_count": 122,
   "metadata": {},
   "outputs": [
    {
     "name": "stderr",
     "output_type": "stream",
     "text": [
      "d:\\Python310\\lib\\site-packages\\skopt\\optimizer\\optimizer.py:449: UserWarning: The objective has been evaluated at this point before.\n",
      "  warnings.warn(\"The objective has been evaluated \"\n"
     ]
    },
    {
     "name": "stdout",
     "output_type": "stream",
     "text": [
      "Best parameters found:  OrderedDict([('max_depth', 2), ('max_features', None), ('min_samples_leaf', 9), ('min_samples_split', 10)])\n",
      "Best score found:  0.7724899964899964\n",
      "Test score:  0.7761452031114953\n"
     ]
    },
    {
     "data": {
      "text/plain": [
       "\"\\nBest parameters found:  OrderedDict([('max_depth', 3), ('max_features', None), ('min_samples_leaf', 7), ('min_samples_split', 6)])\\nBest score found:  0.770977418977419\\nTest score:  0.7752808988764045\\n\""
      ]
     },
     "execution_count": 122,
     "metadata": {},
     "output_type": "execute_result"
    }
   ],
   "source": [
    "from sklearn.utils import shuffle\n",
    "import time\n",
    "from skopt import BayesSearchCV\n",
    "from sklearn.tree import DecisionTreeClassifier\n",
    "from sklearn.metrics import accuracy_score\n",
    "\n",
    "data_f = shuffle(new_data)\n",
    "\n",
    "X = data_f[['钙', '钠', '低密度脂蛋白胆固醇', '血小板', '血小板分布宽度', '血小板压积', '中性粒细胞百分比',\n",
    "       '中性粒细胞绝对值', '平均血小板体积', '大血小板比率', '红细胞', '手术时长', 'age', 'gender', '麻醉方式',\n",
    "       'asa分级', '身高', '体重', '血压/高', '血压/低', '白细胞', 'ALT', '肾小球滤过率', '肌酐', 'K',\n",
    "       '尿酸', '血糖', '总胆红素', '是否吸烟', '是否饮酒', '是否有手术史']]\n",
    "y = data_f['label']\n",
    "\n",
    "scaler = StandardScaler()\n",
    "X = scaler.fit_transform(X)\n",
    "\n",
    "start = time.time()\n",
    "# 划分训练集和测试集\n",
    "X_train, X_test, y_train, y_test = train_test_split(X, y, test_size = 0.2, random_state = 42)\n",
    "model.fit(X_train, y_train)\n",
    "\n",
    "param_space = {\n",
    "    'max_depth': [1, 15],\n",
    "    'min_samples_split': [2, 10],\n",
    "    'min_samples_leaf': [1, 10],\n",
    "    'max_features': (None, 'sqrt', 'log2')\n",
    "}\n",
    "\n",
    "model = DecisionTreeClassifier(random_state=42)\n",
    "\n",
    "opt = BayesSearchCV(model, param_space, n_iter = 30, cv = 5)\n",
    "opt.fit(X_train, y_train)\n",
    "\n",
    "print(\"Best parameters found: \", opt.best_params_)\n",
    "print(\"Best score found: \", opt.best_score_)\n",
    "\n",
    "# 在测试集上评估模型性能\n",
    "test_score = opt.score(X_test, y_test)\n",
    "print(\"Test score: \", test_score)\n",
    "\n",
    "'''\n",
    "Best parameters found:  OrderedDict([('max_depth', 3), ('max_features', None), ('min_samples_leaf', 7), ('min_samples_split', 6)])\n",
    "Best score found:  0.770977418977419\n",
    "Test score:  0.7752808988764045\n",
    "'''"
   ]
  },
  {
   "cell_type": "code",
   "execution_count": 123,
   "metadata": {},
   "outputs": [
    {
     "name": "stdout",
     "output_type": "stream",
     "text": [
      "[0.74784111 0.78719723 0.77854671 0.816609   0.7733564  0.75259516\n",
      " 0.76124567 0.76470588 0.75605536 0.79411765]\n",
      "0.7732270171098004\n"
     ]
    }
   ],
   "source": [
    "model = DecisionTreeClassifier(random_state = 42, max_depth = 3, \n",
    "                               max_features = None, min_samples_leaf = 7, \n",
    "                               min_samples_split = 6)\n",
    "scores = cross_val_score(model, X, y, cv = 10, scoring = 'accuracy')\n",
    "print(scores)\n",
    "print(np.mean(scores))"
   ]
  }
 ],
 "metadata": {
  "kernelspec": {
   "display_name": "Python 3",
   "language": "python",
   "name": "python3"
  },
  "language_info": {
   "codemirror_mode": {
    "name": "ipython",
    "version": 3
   },
   "file_extension": ".py",
   "mimetype": "text/x-python",
   "name": "python",
   "nbconvert_exporter": "python",
   "pygments_lexer": "ipython3",
   "version": "3.10.2"
  }
 },
 "nbformat": 4,
 "nbformat_minor": 2
}
